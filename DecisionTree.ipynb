{
 "cells": [
  {
   "cell_type": "markdown",
   "metadata": {},
   "source": [
    "# Decision Tree"
   ]
  },
  {
   "cell_type": "code",
   "execution_count": 1,
   "metadata": {},
   "outputs": [],
   "source": [
    "import warnings\n",
    "warnings.filterwarnings(\"ignore\")\n",
    "import pandas as pd\n",
    "import numpy as np\n",
    "import os"
   ]
  },
  {
   "cell_type": "code",
   "execution_count": 2,
   "metadata": {},
   "outputs": [],
   "source": [
    "\"\"\"1. class: normal find, metastases, malign lymph, fibrosis \n",
    "2. lymphatics: normal, arched, deformed, displaced \n",
    "3. block of affere: no, yes \n",
    "4. bl. of lymph. c: no, yes \n",
    "5. bl. of lymph. s: no, yes \n",
    "6. by pass: no, yes \n",
    "7. extravasates: no, yes \n",
    "8. regeneration of: no, yes \n",
    "9. early uptake in: no, yes \n",
    "10. lym.nodes dimin: 0-3 \n",
    "11. lym.nodes enlar: 1-4 \n",
    "12. changes in lym.: bean, oval, round \n",
    "13. defect in node: no, lacunar, lac. marginal, lac. central \n",
    "14. changes in node: no, lacunar, lac. margin, lac. central \n",
    "15. changes in stru: no, grainy, drop-like, coarse, diluted, reticular, stripped, faint, \n",
    "16. special forms: no, chalices, vesicles \n",
    "17. dislocation of: no, yes \n",
    "18. exclusion of no: no, yes \n",
    "19. no. of nodes in: 0-9, 10-19, 20-29, 30-39, 40-49, 50-59, 60-69, >=70 \n",
    "\n",
    "\"\"\"\n",
    "\n",
    "names = ['class', 'lymphatics','block of affere','bl. of lymph. c','l. of lymph. s',\n",
    "    'by pass','extravasates','regeneration of','early uptake in','lym.nodes dimin','lym.nodes enlar','changes in lym.',\n",
    "   'defect in node','changes in node','changes in stru','special forms','dislocation of','exclusion of no','no. of nodes in'] #column names for the data"
   ]
  },
  {
   "cell_type": "code",
   "execution_count": 3,
   "metadata": {},
   "outputs": [
    {
     "data": {
      "text/plain": [
       "19"
      ]
     },
     "execution_count": 3,
     "metadata": {},
     "output_type": "execute_result"
    }
   ],
   "source": [
    "len(names)"
   ]
  },
  {
   "cell_type": "code",
   "execution_count": 4,
   "metadata": {},
   "outputs": [],
   "source": [
    "data = pd.read_csv(\"Lympography.csv\", names = names) #reading csv file of the data"
   ]
  },
  {
   "cell_type": "code",
   "execution_count": 5,
   "metadata": {},
   "outputs": [
    {
     "data": {
      "text/html": [
       "<div>\n",
       "<style scoped>\n",
       "    .dataframe tbody tr th:only-of-type {\n",
       "        vertical-align: middle;\n",
       "    }\n",
       "\n",
       "    .dataframe tbody tr th {\n",
       "        vertical-align: top;\n",
       "    }\n",
       "\n",
       "    .dataframe thead th {\n",
       "        text-align: right;\n",
       "    }\n",
       "</style>\n",
       "<table border=\"1\" class=\"dataframe\">\n",
       "  <thead>\n",
       "    <tr style=\"text-align: right;\">\n",
       "      <th></th>\n",
       "      <th>class</th>\n",
       "      <th>lymphatics</th>\n",
       "      <th>block of affere</th>\n",
       "      <th>bl. of lymph. c</th>\n",
       "      <th>l. of lymph. s</th>\n",
       "      <th>by pass</th>\n",
       "      <th>extravasates</th>\n",
       "      <th>regeneration of</th>\n",
       "      <th>early uptake in</th>\n",
       "      <th>lym.nodes dimin</th>\n",
       "      <th>lym.nodes enlar</th>\n",
       "      <th>changes in lym.</th>\n",
       "      <th>defect in node</th>\n",
       "      <th>changes in node</th>\n",
       "      <th>changes in stru</th>\n",
       "      <th>special forms</th>\n",
       "      <th>dislocation of</th>\n",
       "      <th>exclusion of no</th>\n",
       "      <th>no. of nodes in</th>\n",
       "    </tr>\n",
       "  </thead>\n",
       "  <tbody>\n",
       "    <tr>\n",
       "      <th>0</th>\n",
       "      <td>3</td>\n",
       "      <td>4</td>\n",
       "      <td>2</td>\n",
       "      <td>1</td>\n",
       "      <td>1</td>\n",
       "      <td>1</td>\n",
       "      <td>1</td>\n",
       "      <td>1</td>\n",
       "      <td>2</td>\n",
       "      <td>1</td>\n",
       "      <td>2</td>\n",
       "      <td>2</td>\n",
       "      <td>2</td>\n",
       "      <td>4</td>\n",
       "      <td>8</td>\n",
       "      <td>1</td>\n",
       "      <td>1</td>\n",
       "      <td>2</td>\n",
       "      <td>2</td>\n",
       "    </tr>\n",
       "    <tr>\n",
       "      <th>1</th>\n",
       "      <td>2</td>\n",
       "      <td>3</td>\n",
       "      <td>2</td>\n",
       "      <td>1</td>\n",
       "      <td>1</td>\n",
       "      <td>2</td>\n",
       "      <td>2</td>\n",
       "      <td>1</td>\n",
       "      <td>2</td>\n",
       "      <td>1</td>\n",
       "      <td>3</td>\n",
       "      <td>3</td>\n",
       "      <td>2</td>\n",
       "      <td>3</td>\n",
       "      <td>4</td>\n",
       "      <td>2</td>\n",
       "      <td>2</td>\n",
       "      <td>2</td>\n",
       "      <td>2</td>\n",
       "    </tr>\n",
       "    <tr>\n",
       "      <th>2</th>\n",
       "      <td>3</td>\n",
       "      <td>3</td>\n",
       "      <td>2</td>\n",
       "      <td>2</td>\n",
       "      <td>2</td>\n",
       "      <td>2</td>\n",
       "      <td>2</td>\n",
       "      <td>2</td>\n",
       "      <td>2</td>\n",
       "      <td>1</td>\n",
       "      <td>4</td>\n",
       "      <td>3</td>\n",
       "      <td>3</td>\n",
       "      <td>4</td>\n",
       "      <td>8</td>\n",
       "      <td>3</td>\n",
       "      <td>2</td>\n",
       "      <td>2</td>\n",
       "      <td>7</td>\n",
       "    </tr>\n",
       "    <tr>\n",
       "      <th>3</th>\n",
       "      <td>3</td>\n",
       "      <td>3</td>\n",
       "      <td>1</td>\n",
       "      <td>1</td>\n",
       "      <td>1</td>\n",
       "      <td>1</td>\n",
       "      <td>2</td>\n",
       "      <td>1</td>\n",
       "      <td>2</td>\n",
       "      <td>1</td>\n",
       "      <td>3</td>\n",
       "      <td>3</td>\n",
       "      <td>4</td>\n",
       "      <td>4</td>\n",
       "      <td>4</td>\n",
       "      <td>3</td>\n",
       "      <td>1</td>\n",
       "      <td>2</td>\n",
       "      <td>6</td>\n",
       "    </tr>\n",
       "    <tr>\n",
       "      <th>4</th>\n",
       "      <td>2</td>\n",
       "      <td>3</td>\n",
       "      <td>1</td>\n",
       "      <td>1</td>\n",
       "      <td>1</td>\n",
       "      <td>1</td>\n",
       "      <td>1</td>\n",
       "      <td>1</td>\n",
       "      <td>1</td>\n",
       "      <td>1</td>\n",
       "      <td>2</td>\n",
       "      <td>2</td>\n",
       "      <td>4</td>\n",
       "      <td>3</td>\n",
       "      <td>5</td>\n",
       "      <td>1</td>\n",
       "      <td>2</td>\n",
       "      <td>2</td>\n",
       "      <td>1</td>\n",
       "    </tr>\n",
       "  </tbody>\n",
       "</table>\n",
       "</div>"
      ],
      "text/plain": [
       "   class  lymphatics  block of affere  bl. of lymph. c  l. of lymph. s  \\\n",
       "0      3           4                2                1               1   \n",
       "1      2           3                2                1               1   \n",
       "2      3           3                2                2               2   \n",
       "3      3           3                1                1               1   \n",
       "4      2           3                1                1               1   \n",
       "\n",
       "   by pass  extravasates  regeneration of  early uptake in  lym.nodes dimin  \\\n",
       "0        1             1                1                2                1   \n",
       "1        2             2                1                2                1   \n",
       "2        2             2                2                2                1   \n",
       "3        1             2                1                2                1   \n",
       "4        1             1                1                1                1   \n",
       "\n",
       "   lym.nodes enlar  changes in lym.  defect in node  changes in node  \\\n",
       "0                2                2               2                4   \n",
       "1                3                3               2                3   \n",
       "2                4                3               3                4   \n",
       "3                3                3               4                4   \n",
       "4                2                2               4                3   \n",
       "\n",
       "   changes in stru  special forms  dislocation of  exclusion of no  \\\n",
       "0                8              1               1                2   \n",
       "1                4              2               2                2   \n",
       "2                8              3               2                2   \n",
       "3                4              3               1                2   \n",
       "4                5              1               2                2   \n",
       "\n",
       "   no. of nodes in  \n",
       "0                2  \n",
       "1                2  \n",
       "2                7  \n",
       "3                6  \n",
       "4                1  "
      ]
     },
     "execution_count": 5,
     "metadata": {},
     "output_type": "execute_result"
    }
   ],
   "source": [
    "data.head() #printing head of the data "
   ]
  },
  {
   "cell_type": "code",
   "execution_count": 6,
   "metadata": {},
   "outputs": [],
   "source": [
    "#data.isnull().sum() #checking for the null values in the data"
   ]
  },
  {
   "cell_type": "code",
   "execution_count": 7,
   "metadata": {},
   "outputs": [
    {
     "data": {
      "text/plain": [
       "(148, 19)"
      ]
     },
     "execution_count": 7,
     "metadata": {},
     "output_type": "execute_result"
    }
   ],
   "source": [
    "data.shape #finding shape for the data"
   ]
  },
  {
   "cell_type": "markdown",
   "metadata": {},
   "source": [
    "Allocating the attribues and the labels for the data"
   ]
  },
  {
   "cell_type": "code",
   "execution_count": 8,
   "metadata": {},
   "outputs": [],
   "source": [
    "X = data.iloc[:, 0:].values #features\n",
    "y = data.iloc[:, 0].values #labels"
   ]
  },
  {
   "cell_type": "code",
   "execution_count": 9,
   "metadata": {},
   "outputs": [
    {
     "data": {
      "text/plain": [
       "array([1, 2, 3, 4], dtype=int64)"
      ]
     },
     "execution_count": 9,
     "metadata": {},
     "output_type": "execute_result"
    }
   ],
   "source": [
    "np.unique(y)"
   ]
  },
  {
   "cell_type": "markdown",
   "metadata": {},
   "source": [
    "Training, testing and spliting the data"
   ]
  },
  {
   "cell_type": "code",
   "execution_count": 10,
   "metadata": {},
   "outputs": [],
   "source": [
    "from sklearn.model_selection import train_test_split #splitting our data into the parts like train, test, split\n",
    "X_train, X_test, y_train, y_test = train_test_split(X, y, test_size = 0.2, random_state = 0) #we are giving X-->Features, Y--> Labels\n",
    "#Test size refers to the how much should be the data for the test and the train\n",
    "#random state takes data randomly if we gaiven any number like 10, 20 or if you 0 it will take data in sequence way"
   ]
  },
  {
   "cell_type": "markdown",
   "metadata": {},
   "source": [
    "Scaling the data from 0 to 1"
   ]
  },
  {
   "cell_type": "code",
   "execution_count": 11,
   "metadata": {},
   "outputs": [],
   "source": [
    "from sklearn.preprocessing import StandardScaler #standard scaler the function is used to bring different range data into same range\n",
    "sc = StandardScaler() #this function creating the variable\n",
    "X_train = sc.fit_transform(X_train) #fitting into the standard scaler for train data\n",
    "X_test = sc.transform(X_test) #fitting for the test data"
   ]
  },
  {
   "cell_type": "markdown",
   "metadata": {},
   "source": [
    "applying dimension reductionality to the data to gain best information from it"
   ]
  },
  {
   "cell_type": "code",
   "execution_count": 12,
   "metadata": {},
   "outputs": [],
   "source": [
    "from sklearn.decomposition import PCA #principle component analysis\n",
    "pca = PCA() #n components says about the how many pca should take like p1 and p2\n",
    "X_train = pca.fit_transform(X_train) #X_train is fitting into the pca and it will gain infor mation \n",
    "#from the algo and form s the new column \n",
    "X_test = pca.transform(X_test) #same for the test data"
   ]
  },
  {
   "cell_type": "markdown",
   "metadata": {},
   "source": [
    "Tuning the with help of the Grid search"
   ]
  },
  {
   "cell_type": "code",
   "execution_count": 13,
   "metadata": {},
   "outputs": [],
   "source": [
    "from sklearn.model_selection import GridSearchCV\n",
    "\n",
    "parameters = {\n",
    "    'criterion' : ['gini', 'entropy'], #Criterion of the model \n",
    "    'max_depth' : [1,3, 4, 5, 8, 9, 11, 14, 15,], #max_depth for the model \n",
    "    'random_state' : [0,10, 15, 16, 17, 19, 20] #random state takes data randomly if we gaiven any number like 10, 20 or \n",
    "    #if you 0 it will take data in sequence way\n",
    "}"
   ]
  },
  {
   "cell_type": "code",
   "execution_count": 14,
   "metadata": {},
   "outputs": [],
   "source": [
    "from sklearn.tree import DecisionTreeClassifier #Decision tree classiifer is the \n",
    "dtc = DecisionTreeClassifier()"
   ]
  },
  {
   "cell_type": "markdown",
   "metadata": {},
   "source": [
    "Passing into the model to find the best parameter from the model"
   ]
  },
  {
   "cell_type": "code",
   "execution_count": 15,
   "metadata": {},
   "outputs": [],
   "source": [
    "grid_search = GridSearchCV(estimator=dtc, #estimator says about the model \n",
    "                          param_grid=parameters, #parameter grid takes all the parameters into the grid\n",
    "                          cv=10)#CV say about the k - folds cross validation here k says the number"
   ]
  },
  {
   "cell_type": "markdown",
   "metadata": {},
   "source": [
    "fitting the data into the model for the test case"
   ]
  },
  {
   "cell_type": "code",
   "execution_count": 16,
   "metadata": {},
   "outputs": [
    {
     "name": "stderr",
     "output_type": "stream",
     "text": [
      "D:\\Anaconda\\lib\\site-packages\\sklearn\\model_selection\\_search.py:841: DeprecationWarning: The default of the `iid` parameter will change from True to False in version 0.22 and will be removed in 0.24. This will change numeric results when test-set sizes are unequal.\n",
      "  DeprecationWarning)\n"
     ]
    },
    {
     "data": {
      "text/plain": [
       "GridSearchCV(cv=10, error_score='raise-deprecating',\n",
       "       estimator=DecisionTreeClassifier(class_weight=None, criterion='gini', max_depth=None,\n",
       "            max_features=None, max_leaf_nodes=None,\n",
       "            min_impurity_decrease=0.0, min_impurity_split=None,\n",
       "            min_samples_leaf=1, min_samples_split=2,\n",
       "            min_weight_fraction_leaf=0.0, presort=False, random_state=None,\n",
       "            splitter='best'),\n",
       "       fit_params=None, iid='warn', n_jobs=None,\n",
       "       param_grid={'criterion': ['gini', 'entropy'], 'max_depth': [1, 3, 4, 5, 8, 9, 11, 14, 15], 'random_state': [0, 10, 15, 16, 17, 19, 20]},\n",
       "       pre_dispatch='2*n_jobs', refit=True, return_train_score='warn',\n",
       "       scoring=None, verbose=0)"
      ]
     },
     "execution_count": 16,
     "metadata": {},
     "output_type": "execute_result"
    }
   ],
   "source": [
    "grid_search.fit(X_train, y_train) #fitting the data into the model for the training "
   ]
  },
  {
   "cell_type": "markdown",
   "metadata": {},
   "source": [
    "Finding the best estimator for the data"
   ]
  },
  {
   "cell_type": "code",
   "execution_count": 17,
   "metadata": {},
   "outputs": [
    {
     "data": {
      "text/plain": [
       "DecisionTreeClassifier(class_weight=None, criterion='gini', max_depth=8,\n",
       "            max_features=None, max_leaf_nodes=None,\n",
       "            min_impurity_decrease=0.0, min_impurity_split=None,\n",
       "            min_samples_leaf=1, min_samples_split=2,\n",
       "            min_weight_fraction_leaf=0.0, presort=False, random_state=16,\n",
       "            splitter='best')"
      ]
     },
     "execution_count": 17,
     "metadata": {},
     "output_type": "execute_result"
    }
   ],
   "source": [
    "grid_search.best_estimator_ #it will give best estimators from the given parameters on the data "
   ]
  },
  {
   "cell_type": "markdown",
   "metadata": {},
   "source": [
    "Predicting the data for the testcase"
   ]
  },
  {
   "cell_type": "code",
   "execution_count": 18,
   "metadata": {},
   "outputs": [],
   "source": [
    "y_pred = grid_search.predict(X_test) #it will predict test data "
   ]
  },
  {
   "cell_type": "markdown",
   "metadata": {},
   "source": [
    "Finding accuracy for the Train case"
   ]
  },
  {
   "cell_type": "code",
   "execution_count": 19,
   "metadata": {},
   "outputs": [
    {
     "name": "stdout",
     "output_type": "stream",
     "text": [
      "Test Accuracy Score :-  0.8666666666666667\n",
      "Train Accuracy Score :-  1.0\n"
     ]
    }
   ],
   "source": [
    "from sklearn.metrics import accuracy_score #accuracy score is the function taken from the merices classes\n",
    "print(\"Test Accuracy Score :- \", accuracy_score(y_test, y_pred)) #best accuracy for the test \n",
    "print(\"Train Accuracy Score :- \", accuracy_score(y_train, grid_search.predict(X_train))) #best accuracy for the train"
   ]
  },
  {
   "cell_type": "code",
   "execution_count": 20,
   "metadata": {},
   "outputs": [],
   "source": [
    "from sklearn.metrics import confusion_matrix #confusion matrix for the data\n",
    "c = confusion_matrix(y_pred, y_test)"
   ]
  },
  {
   "cell_type": "code",
   "execution_count": 22,
   "metadata": {},
   "outputs": [
    {
     "data": {
      "image/png": "[encoded data removed]",
      "text/plain": [
       "<Figure size 432x288 with 2 Axes>"
      ]
     },
     "metadata": {
      "needs_background": "light"
     },
     "output_type": "display_data"
    }
   ],
   "source": [
    "import seaborn as sns\n",
    "import matplotlib.pyplot as plt\n",
    "x = sns.heatmap(c, annot = True, fmt = \"d\") #plotting heatmap for the confusion\n",
    "plt.show()"
   ]
  },
  {
   "cell_type": "code",
   "execution_count": null,
   "metadata": {},
   "outputs": [],
   "source": []
  }
 ],
 "metadata": {
  "kernelspec": {
   "display_name": "Python 3",
   "language": "python",
   "name": "python3"
  },
  "language_info": {
   "codemirror_mode": {
    "name": "ipython",
    "version": 3
   },
   "file_extension": ".py",
   "mimetype": "text/x-python",
   "name": "python",
   "nbconvert_exporter": "python",
   "pygments_lexer": "ipython3",
   "version": "3.6.7"
  }
 },
 "nbformat": 4,
 "nbformat_minor": 2
}
